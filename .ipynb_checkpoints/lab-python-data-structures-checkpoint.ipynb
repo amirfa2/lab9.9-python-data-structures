{
 "cells": [
  {
   "cell_type": "code",
   "execution_count": 1,
   "id": "7ad278df-0a00-4a4b-8d77-418f913e04a2",
   "metadata": {},
   "outputs": [
    {
     "name": "stdin",
     "output_type": "stream",
     "text": [
      "Enter quantity for t-shirt:  78\n",
      "Enter quantity for mug:  65\n",
      "Enter quantity for hat:  87\n",
      "Enter quantity for book:  56\n",
      "Enter quantity for keychain:  4\n"
     ]
    },
    {
     "name": "stdout",
     "output_type": "stream",
     "text": [
      "Please enter the names of three products to order.\n"
     ]
    },
    {
     "name": "stdin",
     "output_type": "stream",
     "text": [
      "Enter product:  mug\n",
      "Enter product:  book\n",
      "Enter product:  hat\n"
     ]
    },
    {
     "name": "stdout",
     "output_type": "stream",
     "text": [
      "Products ordered by the customer: {'book', 'mug', 'hat'}\n",
      "order statistics:\n",
      "Total Products Ordered: 3\n",
      "Percentage of Products Ordered: 60.0%\n",
      "Updated Inventory:\n",
      "t-shirt: 78\n",
      "mug: 64\n",
      "hat: 86\n",
      "book: 55\n",
      "keychain: 4\n"
     ]
    }
   ],
   "source": [
    "\n",
    "products = [\"t-shirt\", \"mug\", \"hat\", \"book\", \"keychain\"]\n",
    "\n",
    "# Create an empty dictionary\n",
    "inventory = {}\n",
    "\n",
    "# Ask the user to input the quantity of each product\n",
    "\n",
    "for product in products:\n",
    "    quantity = int(input(f\"Enter quantity for {product}: \"))\n",
    "    inventory[product] = quantity  # Assign the entered quantity\n",
    "\n",
    "# Create an empty set called `customer_orders`\n",
    "customer_orders = set()\n",
    "\n",
    "# Ask the user to input the name of three products to order and add to the `customer_orders` set\n",
    "\n",
    "print(\"Please enter the names of three products to order.\")\n",
    "for i in range(3):\n",
    "    order = input(f\"Enter product: \").lower()  # Take input in lowercase for consistency\n",
    "    if order in products:\n",
    "        customer_orders.add(order)  # Add to the set if the product is correct\n",
    "    else:\n",
    "        print(f\"{order} is not correct. Please select among {products}.\")\n",
    "\n",
    "# Print the products\n",
    "print(\"Products ordered by the customer:\", customer_orders)\n",
    "\n",
    "# Calculate order statistics\n",
    "total_products_ordered = len(customer_orders)  # Total unique products ordered\n",
    "total_available_products = len(products)  # Total number of different products available in the store\n",
    "\n",
    "# Calculate percentage of products ordered\n",
    "percentage_ordered = (total_products_ordered / total_available_products) * 100\n",
    "\n",
    "# Store these statistics in a tuple called `order_status`\n",
    "order_status = (total_products_ordered, percentage_ordered)\n",
    "\n",
    "# Print the order statistics\n",
    "print(\"order statistics:\")\n",
    "print(f\"Total Products Ordered: {order_status[0]}\")\n",
    "print(f\"Percentage of Products Ordered: {order_status[1]:}%\")\n",
    "\n",
    "# Update the inventory\n",
    "for product in customer_orders:\n",
    "    if inventory[product] > 0:\n",
    "        inventory[product] -= 1\n",
    "    else:\n",
    "        print(f\"Warning: {product} is out of stock.\")\n",
    "\n",
    "# Print the updated inventory\n",
    "print(\"Updated Inventory:\")\n",
    "for product, quantity in inventory.items():\n",
    "    print(f\"{product}: {quantity}\")\n"
   ]
  },
  {
   "cell_type": "code",
   "execution_count": null,
   "id": "55e9bc26-77b2-4f64-947a-4b7a40c4adcd",
   "metadata": {},
   "outputs": [],
   "source": []
  }
 ],
 "metadata": {
  "kernelspec": {
   "display_name": "Python 3",
   "language": "python",
   "name": "python3"
  },
  "language_info": {
   "codemirror_mode": {
    "name": "ipython",
    "version": 3
   },
   "file_extension": ".py",
   "mimetype": "text/x-python",
   "name": "python",
   "nbconvert_exporter": "python",
   "pygments_lexer": "ipython3",
   "version": "3.8.8"
  }
 },
 "nbformat": 4,
 "nbformat_minor": 5
}
