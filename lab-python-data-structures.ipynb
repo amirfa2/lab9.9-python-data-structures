{
 "cells": [
  {
   "cell_type": "code",
   "execution_count": 7,
   "id": "7ad278df-0a00-4a4b-8d77-418f913e04a2",
   "metadata": {},
   "outputs": [
    {
     "name": "stdout",
     "output_type": "stream",
     "text": [
      "Please enter the inventory quantities for each product\n"
     ]
    },
    {
     "name": "stdin",
     "output_type": "stream",
     "text": [
      "Enter quantity for t-shirt:  55\n",
      "Enter quantity for mug:  66\n",
      "Enter quantity for hat:  55\n",
      "Enter quantity for book:  55\n",
      "Enter quantity for keychain:  22\n"
     ]
    },
    {
     "name": "stdout",
     "output_type": "stream",
     "text": [
      "Please enter the names of three products that the customer wants to order.\n"
     ]
    },
    {
     "name": "stdin",
     "output_type": "stream",
     "text": [
      "Enter product:  mug\n",
      "Enter product:  hat\n",
      "Enter product:  book\n"
     ]
    },
    {
     "name": "stdout",
     "output_type": "stream",
     "text": [
      "Products ordered by the customer: {'mug', 'book', 'hat'}\n",
      "Order Statistics:\n",
      "Total Products Ordered: 3\n",
      "Percentage of Products Ordered: 60.0%\n",
      "Updated Inventory:\n",
      "t-shirt: 55\n",
      "mug: 65\n",
      "hat: 54\n",
      "book: 54\n",
      "keychain: 22\n"
     ]
    }
   ],
   "source": [
    "\n",
    "products = [\"t-shirt\", \"mug\", \"hat\", \"book\", \"keychain\"]\n",
    "\n",
    "# Step 2: Create an empty dictionary\n",
    "inventory = {}\n",
    "\n",
    "# Step 3: Ask the user to input the quantity of each product and store in the `inventory` dictionary\n",
    "print(\"Please enter the inventory quantities for each product\")\n",
    "for product in products:\n",
    "    quantity = int(input(f\"Enter quantity for {product}: \"))\n",
    "    inventory[product] = quantity  # Assign the entered quantity\n",
    "\n",
    "# Step 4: Create an empty set called `customer_orders`\n",
    "customer_orders = set()\n",
    "\n",
    "# Step 5: Ask the user to input the name of three products they want to order and add to the `customer_orders` set\n",
    "print(\"Please enter the names of three products that the customer wants to order.\")\n",
    "for i in range(3):\n",
    "    order = input(f\"Enter product: \").lower()  # Take input in lowercase for consistency\n",
    "    if order in products:\n",
    "        customer_orders.add(order)  # Add to the set if the product is valid\n",
    "    else:\n",
    "        print(f\"{order} is not valid. Please select among {products}.\")\n",
    "\n",
    "# Step 6: Print the products in the `customer_orders` set\n",
    "print(\"Products ordered by the customer:\", customer_orders)\n",
    "\n",
    "# Step 7: Calculate order statistics\n",
    "total_products_ordered = len(customer_orders)  # Total unique products ordered\n",
    "total_available_products = len(products)  # Total number of different products available in the store\n",
    "\n",
    "# Calculate percentage of products ordered\n",
    "percentage_ordered = (total_products_ordered / total_available_products) * 100\n",
    "\n",
    "# Store these statistics in a tuple called `order_status`\n",
    "order_status = (total_products_ordered, percentage_ordered)\n",
    "\n",
    "# Step 8: Print the order statistics in the specified format\n",
    "print(\"order statistics:\")\n",
    "print(f\"Total Products Ordered: {order_status[0]}\")\n",
    "print(f\"Percentage of Products Ordered: {order_status[1]:}%\")\n",
    "\n",
    "# Step 9: Update the inventory by subtracting 1 for each product ordered\n",
    "for product in customer_orders:\n",
    "    if inventory[product] > 0:\n",
    "        inventory[product] -= 1\n",
    "    else:\n",
    "        print(f\"Warning: {product} is out of stock.\")\n",
    "\n",
    "# Step 10: Print the updated inventory, displaying the quantity of each product\n",
    "print(\"Updated Inventory:\")\n",
    "for product, quantity in inventory.items():\n",
    "    print(f\"{product}: {quantity}\")\n"
   ]
  },
  {
   "cell_type": "code",
   "execution_count": null,
   "id": "55e9bc26-77b2-4f64-947a-4b7a40c4adcd",
   "metadata": {},
   "outputs": [],
   "source": []
  }
 ],
 "metadata": {
  "kernelspec": {
   "display_name": "Python 3",
   "language": "python",
   "name": "python3"
  },
  "language_info": {
   "codemirror_mode": {
    "name": "ipython",
    "version": 3
   },
   "file_extension": ".py",
   "mimetype": "text/x-python",
   "name": "python",
   "nbconvert_exporter": "python",
   "pygments_lexer": "ipython3",
   "version": "3.8.8"
  }
 },
 "nbformat": 4,
 "nbformat_minor": 5
}
